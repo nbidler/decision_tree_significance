{
 "cells": [
  {
   "cell_type": "code",
   "execution_count": 58,
   "id": "7142503c-d4ac-4ea1-9e05-b326d2400e90",
   "metadata": {},
   "outputs": [],
   "source": [
    "import sklearn\n",
    "import pandas\n",
    "import numpy\n",
    "from collections import Counter\n",
    "import itertools\n",
    "import more_itertools\n",
    "\n",
    "import matplotlib.pyplot as plt\n",
    "import matplotlib.colors as mcolors\n",
    "import datetime as dt"
   ]
  },
  {
   "cell_type": "code",
   "execution_count": 59,
   "id": "815383b8-96fb-4241-ad87-0bf066c71091",
   "metadata": {},
   "outputs": [],
   "source": [
    "# NOTE: ALL OF THESE ARE \n",
    "# filepath = \"../c45-datasets/diabetes_kaggle/diabetes.csv\"\n",
    "# filepath = \"../c45-datasets/bank-data_depaul/bank-data.csv\"\n",
    "# filepath = \"../c45-datasets/estimation+of+obesity+levels/ObesityDataSet_raw_and_data_sinthetic.csv\"\n",
    "# filepath = \"../c45-datasets/blood+transfusion+service+center/transfusion.data.csv\"\n",
    "# filepath = \"../c45-datasets/algerian+forest+fires+dataset/Algerian_forest_fires_dataset_UPDATE.csv\"\n",
    "# filepath = \"../c45-datasets/breast+cancer+wisconsin+prognostic/wpbc_data.csv\""
   ]
  },
  {
   "cell_type": "code",
   "execution_count": 60,
   "id": "f8c69f0c-ac59-4a13-ac44-db13016594ea",
   "metadata": {},
   "outputs": [],
   "source": [
    "if filepath == \"../c45-datasets/breast+cancer+wisconsin+prognostic/wpbc_data.csv\":\n",
    "    from_csv = pandas.read_csv(filepath_or_buffer=filepath, header=None)\n",
    "else:\n",
    "    from_csv = pandas.read_csv(filepath)"
   ]
  },
  {
   "cell_type": "code",
   "execution_count": 61,
   "id": "8b196818-8dfa-4c5d-8eaf-c860168f7a4b",
   "metadata": {},
   "outputs": [
    {
     "name": "stdout",
     "output_type": "stream",
     "text": [
      "     day  month  year  Temperature   RH   Ws  Rain   FFMC   DMC    DC  ISI  \\\n",
      "0      1      6  2012           29   57   18    0.0  65.7   3.4   7.6  1.3   \n",
      "1      2      6  2012           29   61   13    1.3  64.4   4.1   7.6  1.0   \n",
      "2      3      6  2012           26   82   22   13.1  47.1   2.5   7.1  0.3   \n",
      "3      4      6  2012           25   89   13    2.5  28.6   1.3   6.9  0.0   \n",
      "4      5      6  2012           27   77   16    0.0  64.8   3.0  14.2  1.2   \n",
      "..   ...    ...   ...          ...  ...  ...    ...   ...   ...   ...  ...   \n",
      "238   26      9  2012           30   65   14    0.0  85.4  16.0  44.5  4.5   \n",
      "239   27      9  2012           28   87   15    4.4  41.1   6.5   8.0  0.1   \n",
      "240   28      9  2012           27   87   29    0.5  45.9   3.5   7.9  0.4   \n",
      "241   29      9  2012           24   54   18    0.1  79.7   4.3  15.2  1.7   \n",
      "242   30      9  2012           24   64   15    0.2  67.3   3.8  16.5  1.2   \n",
      "\n",
      "      BUI  FWI Classes    \n",
      "0     3.4  0.5  not fire  \n",
      "1     3.9  0.4  not fire  \n",
      "2     2.7  0.1  not fire  \n",
      "3     1.7  0.0  not fire  \n",
      "4     3.9  0.5  not fire  \n",
      "..    ...  ...       ...  \n",
      "238  16.9  6.5      fire  \n",
      "239   6.2  0.0  not fire  \n",
      "240   3.4  0.2  not fire  \n",
      "241   5.1  0.7  not fire  \n",
      "242   4.8  0.5  not fire  \n",
      "\n",
      "[243 rows x 14 columns]\n"
     ]
    }
   ],
   "source": [
    "print(from_csv)"
   ]
  },
  {
   "cell_type": "code",
   "execution_count": 62,
   "id": "a87bceb1-7afc-4203-a98e-0e27bb5eede2",
   "metadata": {},
   "outputs": [
    {
     "name": "stdout",
     "output_type": "stream",
     "text": [
      "     day  month  year  Temperature   RH   Ws  Rain   FFMC   DMC    DC  ISI  \\\n",
      "0      1      6  2012           29   57   18    0.0  65.7   3.4   7.6  1.3   \n",
      "1      2      6  2012           29   61   13    1.3  64.4   4.1   7.6  1.0   \n",
      "2      3      6  2012           26   82   22   13.1  47.1   2.5   7.1  0.3   \n",
      "3      4      6  2012           25   89   13    2.5  28.6   1.3   6.9  0.0   \n",
      "4      5      6  2012           27   77   16    0.0  64.8   3.0  14.2  1.2   \n",
      "..   ...    ...   ...          ...  ...  ...    ...   ...   ...   ...  ...   \n",
      "238   26      9  2012           30   65   14    0.0  85.4  16.0  44.5  4.5   \n",
      "239   27      9  2012           28   87   15    4.4  41.1   6.5   8.0  0.1   \n",
      "240   28      9  2012           27   87   29    0.5  45.9   3.5   7.9  0.4   \n",
      "241   29      9  2012           24   54   18    0.1  79.7   4.3  15.2  1.7   \n",
      "242   30      9  2012           24   64   15    0.2  67.3   3.8  16.5  1.2   \n",
      "\n",
      "      BUI  FWI Classes    \n",
      "0     3.4  0.5  not fire  \n",
      "1     3.9  0.4  not fire  \n",
      "2     2.7  0.1  not fire  \n",
      "3     1.7  0.0  not fire  \n",
      "4     3.9  0.5  not fire  \n",
      "..    ...  ...       ...  \n",
      "238  16.9  6.5      fire  \n",
      "239   6.2  0.0  not fire  \n",
      "240   3.4  0.2  not fire  \n",
      "241   5.1  0.7  not fire  \n",
      "242   4.8  0.5  not fire  \n",
      "\n",
      "[243 rows x 14 columns]\n"
     ]
    }
   ],
   "source": [
    "# NOTE: this code block is preprocessing in case of ID field or other \"perfect predictor\"\n",
    "if 'id' in from_csv.columns:\n",
    "    from_csv = from_csv.drop(['id'], axis=1)\n",
    "if filepath == \"../c45-datasets/breast+cancer+wisconsin+prognostic/wpbc_data.csv\":\n",
    "    from_csv = from_csv.drop([0], axis=1)\n",
    "    from_csv = from_csv.set_axis(['Outcome', 'Time',\n",
    "            'radius mean','radius SE','radius worst',\n",
    "            'texture mean','texture SE','texture worst',\n",
    "            'perimeter mean','perimeter SE','perimeter worst',\n",
    "            'area mean','area SE','area worst',            \n",
    "            'smoothness mean','smoothness SE','smoothness worst',\n",
    "            'compactness mean','compactness SE','compactness worst',\n",
    "            'concavity mean','concavity SE','concavity worst',\n",
    "            'concave points mean','concave points SE','concave points worst',\n",
    "            'symmetry mean','symmetry SE','symmetry worst',\n",
    "            'fractal dimension mean','fractal dimension SE','fractal dimension worst',\n",
    "            'Tumor size',\n",
    "            'Lymph node status'], axis=1)\n",
    "    column_to_end = from_csv.pop('Outcome')\n",
    "    from_csv.insert(len(from_csv.columns), 'Outcome', column_to_end)\n",
    "\n",
    "print(from_csv)"
   ]
  },
  {
   "cell_type": "code",
   "execution_count": 63,
   "id": "bfb7c7c4-7955-437d-8f89-93c762f3a155",
   "metadata": {},
   "outputs": [],
   "source": [
    "# accepts a single column of a dataframe\n",
    "# returns the number of unique values in the column\n",
    "#   this is intended to be used to determine if an attribute that has no variation\n",
    "def unique_col_values(column):\n",
    "    return len(column.unique())"
   ]
  },
  {
   "cell_type": "code",
   "execution_count": 64,
   "id": "d354ed2b-b602-4082-b0c5-9db581f4f159",
   "metadata": {},
   "outputs": [
    {
     "name": "stdout",
     "output_type": "stream",
     "text": [
      "[31, 4, 1, 19, 62, 18, 39, 173, 165, 197, 106, 173, 125, 2]\n"
     ]
    }
   ],
   "source": [
    "count_unique = list()\n",
    "for header in from_csv.columns:\n",
    "    count_unique.append( unique_col_values(from_csv[header]) )\n",
    "\n",
    "print(count_unique)"
   ]
  },
  {
   "cell_type": "code",
   "execution_count": 65,
   "id": "ae75486a-dd5c-4dba-b698-a75f24c89d81",
   "metadata": {},
   "outputs": [],
   "source": [
    "# CHECKING FOR COLUMNS' DATATYPES\n",
    "# for header in from_csv.columns:\n",
    "#     print(header, from_csv[header].dtype)"
   ]
  },
  {
   "cell_type": "code",
   "execution_count": 66,
   "id": "deb6e8e9-5236-4aae-b6e5-a31027d8a259",
   "metadata": {},
   "outputs": [],
   "source": [
    "# accepts a single dataframe and result column name\n",
    "# assumes target attribute is in last column of dataframe\n",
    "# returns the total entropy of the dataframe\n",
    "def entropy(dataframe, res_col):\n",
    "    counts = dataframe[res_col].value_counts()\n",
    "    total = dataframe.shape[0]\n",
    "    probabilities = counts / total\n",
    "    total_entropy = probabilities * numpy.log2(probabilities)\n",
    "    return -total_entropy.sum()"
   ]
  },
  {
   "cell_type": "code",
   "execution_count": 67,
   "id": "4b0c18c4-e3e2-4b47-8968-211fe2e2a23b",
   "metadata": {},
   "outputs": [],
   "source": [
    "# accepts a dataframe, a 'target' attribute, and 'result' attribute\n",
    "# returns the information gain of that column\n",
    "#   this is intended to be used repeatedly to find the max info gain among attributes of a dataframe\n",
    "def info_gain_categorical(dataframe, target_attr, result_attr):\n",
    "    #print(dataframe.shape[1], target_attribute, result_attr, target_attribute in dataframe.columns)\n",
    "    total_entropy = entropy(dataframe,result_attr)\n",
    "    val_counts = dataframe.value_counts(subset=target_attr)\n",
    "    unique_counts = pandas.DataFrame({target_attr:val_counts.index, 'count':val_counts.values})\n",
    "\n",
    "    weighted_entropy = 0\n",
    "    total_count = unique_counts['count'].sum()\n",
    "    for index,row in unique_counts.iterrows():\n",
    "        frequency = row['count'] / total_count\n",
    "        specific_dataframe = dataframe[dataframe[target_attr] == row[target_attr]]\n",
    "        weighted_entropy = weighted_entropy + ( frequency * entropy(specific_dataframe, result_attr) )\n",
    "    \n",
    "    return (total_entropy - weighted_entropy)"
   ]
  },
  {
   "cell_type": "code",
   "execution_count": 68,
   "id": "c6c2cedf-a95b-4f53-8453-439aaab2bd42",
   "metadata": {},
   "outputs": [],
   "source": [
    "# CODE BLOCK FOR TESTING info_gain_categorical()\n",
    "\n",
    "#for header in from_csv.columns:\n",
    "#    information_gain(from_csv, header)\n",
    "# dataframe = from_csv\n",
    "\n",
    "# if 'Outcome' in dataframe.columns:\n",
    "#     result_attr = 'Outcome'\n",
    "#     target_attr = 'Pregnancies'\n",
    "# elif 'pep' in dataframe.columns:\n",
    "#     result_attr = 'pep'\n",
    "#     target_attr = 'married'\n",
    "# elif 'NObeyesdad' in dataframe.columns:\n",
    "#     result_attr = 'NObeyesdad'\n",
    "#     target_attr = 'CH2O'\n",
    "\n",
    "# print(info_gain_categorical(dataframe, target_attr, result_attr))"
   ]
  },
  {
   "cell_type": "code",
   "execution_count": 69,
   "id": "ff5c24de-03a7-4aec-a4ff-3c478ce0aa8e",
   "metadata": {},
   "outputs": [],
   "source": [
    "# accepts a dataframe, a 'target' attribute, and 'result' attribute\n",
    "# returns the max information gain and the best threshold\n",
    "#   this is intended to be used repeatedly to find the max info gain among attributes of a dataframe\n",
    "def info_gain_continuous(dataframe, target_attr, result_attr):\n",
    "    total_entropy = entropy(dataframe, result_attr)\n",
    "    total_rows = dataframe.shape[0]\n",
    "    \n",
    "    sorted_df = dataframe.sort_values(target_attr)\n",
    "    sorted_unique = sorted(dataframe[target_attr].unique())\n",
    "\n",
    "    threshold_values = []\n",
    "    if len(sorted_unique) > 1:\n",
    "        for index in range(len(sorted_unique) -1):\n",
    "            threshold_values.append( (sorted_unique[index] + sorted_unique[index+1]) / 2)\n",
    "    elif len(sorted_unique) == 1:\n",
    "        threshold_values.append(sorted_unique[0])\n",
    "    else:\n",
    "        print(\"error: tried to run with zero unique values in column \", \n",
    "            \"should have been stopped before this point\")\n",
    "\n",
    "    # intitalize variables to prevent issues\n",
    "    max_gain = float(\"-inf\")\n",
    "    #print(len(threshold_values))\n",
    "    best_threshold = threshold_values[0]\n",
    "\n",
    "    for threshold in threshold_values:\n",
    "        subset_lower = sorted_df[ sorted_df[target_attr] <= threshold]\n",
    "        subset_upper = sorted_df[ sorted_df[target_attr] > threshold]\n",
    "    \n",
    "        if len(subset_lower) == 0 or len(subset_upper) == 0:\n",
    "            continue\n",
    "    \n",
    "        entropy_lower = entropy(subset_lower, result_attr)\n",
    "        count_lower = subset_lower.shape[0]\n",
    "        freq_entropy_lower = (count_lower / total_rows) * entropy_lower\n",
    "        \n",
    "        entropy_upper = entropy(subset_upper, result_attr)\n",
    "        count_upper = subset_upper.shape[0]\n",
    "        freq_entropy_upper = (count_upper / total_rows) * entropy_upper\n",
    "    \n",
    "        gain = total_entropy - (freq_entropy_lower + freq_entropy_upper)\n",
    "    \n",
    "        #print(\"threshold, \",threshold)\n",
    "        #print(\"gain, \",gain)\n",
    "        #print(\"freq_entropy_lower + freq_entropy_upper, \",freq_entropy_lower + freq_entropy_upper)\n",
    "    \n",
    "        if gain > max_gain:\n",
    "                max_gain = gain\n",
    "                best_threshold = threshold\n",
    "    \n",
    "    #print(\"max_gain \", max_gain, \"best_threshold \", best_threshold )\n",
    "    return max_gain, best_threshold "
   ]
  },
  {
   "cell_type": "code",
   "execution_count": 70,
   "id": "65c9a94c-1a13-4a63-a5b1-a3a0f89c639c",
   "metadata": {},
   "outputs": [],
   "source": [
    "# CODE BLOCK FOR TESTING info_gain_continuous()\n",
    "\n",
    "# dataframe = from_csv\n",
    "# result_attr = 'Outcome'\n",
    "# target_attr = 'DiabetesPedigreeFunction'\n",
    "\n",
    "# print( info_gain_continuous(dataframe, target_attr, result_attr) )"
   ]
  },
  {
   "cell_type": "code",
   "execution_count": 71,
   "id": "8d9a2560-de9c-45ad-89fb-690425d25e74",
   "metadata": {},
   "outputs": [],
   "source": [
    "# accepts a dataframe and 'result' attribute\n",
    "# for continuous-valued attributes, returns tuple [attribute with the highest information gain, threshold value] \n",
    "# for categorical-valued attributes, returns tuple [attribute with the highest information gain, None] \n",
    "#     this is intended to be used to select attributes for decision tree construction\n",
    "def select_best_attribute(dataframe, result_attr):\n",
    "    listed_attributes = dataframe.columns\n",
    "    gains = list()\n",
    "    #in case of continuous value, store attribute and best threshold as dict\n",
    "    thresholds = dict() \n",
    "    \n",
    "    for attribute in listed_attributes:\n",
    "        # if you somehow hit the \"result\" attribute, skip it\n",
    "        if attribute == result_attr:\n",
    "            continue\n",
    "        # print('dtype',attribute, dataframe[attribute].dtype)\n",
    "        # print(dataframe.shape[1], attribute, result_attr, attribute in dataframe.columns)\n",
    "        \n",
    "        # case: categorical attribute\n",
    "        if dataframe[attribute].dtype == 'object': \n",
    "            gain = info_gain_categorical(dataframe, attribute, result_attr)\n",
    "            gains.append(gain)\n",
    "        # case: continuous attribute\n",
    "        else:\n",
    "            gain, threshold = info_gain_continuous(dataframe, attribute, result_attr)\n",
    "            gains.append(gain)\n",
    "            thresholds[attribute] = threshold\n",
    "        \n",
    "    best_attribute_index = numpy.argmax(gains)\n",
    "    best_attribute = listed_attributes[best_attribute_index]\n",
    "\n",
    "    # case: categorical attribute\n",
    "    if dataframe[best_attribute].dtype == 'object':\n",
    "        return best_attribute, None\n",
    "    # case: continuous attribute\n",
    "    else:\n",
    "        return best_attribute, thresholds[best_attribute]"
   ]
  },
  {
   "cell_type": "code",
   "execution_count": 72,
   "id": "731b27ac-a6be-49fe-9ed8-53829073b655",
   "metadata": {},
   "outputs": [],
   "source": [
    "# dataframe = from_csv\n",
    "# result_attr = 'Outcome'\n",
    "\n",
    "# print(select_best_attribute(dataframe, result_attr))"
   ]
  },
  {
   "cell_type": "code",
   "execution_count": 73,
   "id": "c71e761e-fc33-4b3a-86a4-616f70853d5a",
   "metadata": {},
   "outputs": [],
   "source": [
    "# class TreeNode is intended to be used to construct a decision tree\n",
    "class TreeNode:\n",
    "    def __init__(self, attribute=None, label=None, threshold=None, trained_count = 0):\n",
    "        # splitting attribute name\n",
    "        self.attribute = attribute\n",
    "        # attribute stored for post-merge comparison\n",
    "        self.prev_attr = attribute\n",
    "        # if continuous-valued attribute, the split threshold\n",
    "        self.threshold = threshold  \n",
    "        # class label in case it is a leaf node (holds dict of counted results, i.e. {0 : 15, 1 : 3}, etc.)\n",
    "        self.label = label\n",
    "        # dict to store child nodes in dict - key is splitting attribute value that is routed to child held in value\n",
    "        # { attribute_value_A: child_node_address, attribute_value_B: other_child_node_address}, etc\n",
    "        self.children = {}\n",
    "        # to grade effectiveness of tree, two variables to hold count of new inputs as list()\n",
    "        # .predicted holds prediction from tree, .actual holds original recorded value \n",
    "        self.predicted = list()\n",
    "        self.actual = list()\n",
    "        # total count of samples during \"training\"/tree building\n",
    "        self.trained_count = trained_count"
   ]
  },
  {
   "cell_type": "code",
   "execution_count": 74,
   "id": "b5700cb2-ade1-40f3-9d95-e8881458742c",
   "metadata": {},
   "outputs": [],
   "source": [
    "# TESTING FOR NODE CREATION\n",
    "# print(vars(TreeNode(attribute='placeholder', label={0:10, 1:15}, threshold=None)))"
   ]
  },
  {
   "cell_type": "code",
   "execution_count": 75,
   "id": "cea24001-1c88-4377-bac6-f7e4c0ef64ff",
   "metadata": {},
   "outputs": [],
   "source": [
    "# FROM WIKIPEDIA, C4.5 ALGORITHM:\n",
    "# This algorithm has a few base cases.\n",
    "\n",
    "#     All the samples in the list belong to the same class. When this happens, it simply creates a leaf node for the decision tree saying to choose that class.\n",
    "#     None of the features provide any information gain. In this case, C4.5 creates a decision node higher up the tree using the expected value of the class.\n",
    "#     Instance of previously unseen class encountered. Again, C4.5 creates a decision node higher up the tree using the expected value.\n",
    "\n",
    "# accepts a dataframe and 'result' attribute\n",
    "# returns a decision tree node\n",
    "#   this is intended to be called once to construct a tree, and recursively called by itself to build the tree further\n",
    "def decision_tree_create(dataframe, result_attr):\n",
    "\n",
    "    # base case: all samples in result attribute are the same value. \n",
    "    # print(result_attr)\n",
    "    # print(dataframe[result_attr])\n",
    "    if len(dataframe[result_attr].unique()) <= 1:\n",
    "        # result: create a leaf node for the decision tree saying to choose that value/class.\n",
    "        # return TreeNode(label=dataframe[result_attr].mode(), trained_count=dataframe.shape[0])\n",
    "        current_label=dataframe[result_attr].value_counts().to_dict()\n",
    "        return TreeNode(label=current_label, trained_count=dataframe.shape[0])\n",
    "\n",
    "    # base case: current dataframe only has one column left\n",
    "    if len(dataframe.columns) == 1:\n",
    "        # result: create a leaf node for the decision tree, showing what values for that column result in this\n",
    "        # return TreeNode(label=dataframe[result_attr].mode(), trained_count=dataframe.shape[0])\n",
    "        current_label=dataframe[result_attr].value_counts().to_dict()\n",
    "        return TreeNode(label=current_label, trained_count=dataframe.shape[0])\n",
    "\n",
    "    # select best available attribute\n",
    "    best_attribute_result = select_best_attribute(dataframe, result_attr)\n",
    "    # extract name of best attribute\n",
    "    best_attribute = best_attribute_result[0]\n",
    "    # extract splitting threshold if available (select_best_attribute function should return None if attribute is non-continuous)\n",
    "    best_threshold = best_attribute_result[1]\n",
    "    \n",
    "    this_node = TreeNode(attribute=best_attribute, threshold=best_threshold)\n",
    "\n",
    "    # print(\"best_attribute_result \", best_attribute_result)\n",
    "    # print(\"best_attribute \", best_attribute)\n",
    "    # print(\"threshold \", best_threshold)\n",
    "\n",
    "    # non-base case: categorical attribute\n",
    "    if best_threshold is None:\n",
    "        # determine and store the unique categorical values\n",
    "        values = dataframe[best_attribute].unique()\n",
    "        # for each categorical value\n",
    "        for current_value in values:\n",
    "            # create subtable where the only rows kept match \n",
    "            subtable = dataframe[ dataframe[best_attribute] == current_value ]\n",
    "            # drop the column used so it cannot be re-used\n",
    "            subtable = subtable.drop(columns=[best_attribute])\n",
    "            # create tree node, begin recursion to find child nodes\n",
    "            this_node.children[current_value] = decision_tree_create(subtable, result_attr)\n",
    "    # non-base case: continuous attribute\n",
    "    else:\n",
    "        # prep the dataframe to be split by sorting on best attribute\n",
    "        sorted_df = dataframe.sort_values(best_attribute)\n",
    "        # split dataframe on best attribute, at best threshold\n",
    "        subtable_lower = sorted_df[ sorted_df[best_attribute] <= best_threshold]\n",
    "        subtable_upper = sorted_df[ sorted_df[best_attribute] > best_threshold]\n",
    "        # drop the column used so it cannot be re-used\n",
    "        subtable_lower = subtable_lower.drop(columns=[best_attribute])\n",
    "        subtable_upper = subtable_upper.drop(columns=[best_attribute])\n",
    "        # create tree node, begin recursion to find child nodes\n",
    "        this_node.children['<= {}'.format(best_threshold)] = decision_tree_create(subtable_lower, result_attr)\n",
    "        this_node.children['> {}'.format(best_threshold)] = decision_tree_create(subtable_upper, result_attr)\n",
    "    \n",
    "    return this_node"
   ]
  },
  {
   "cell_type": "code",
   "execution_count": 76,
   "id": "a8389ae0-6af7-414e-ae9f-9b499f1d95d7",
   "metadata": {},
   "outputs": [],
   "source": [
    "# TESTING ONLY\n",
    "# tree_result = decision_tree_create(from_csv, 'Outcome')"
   ]
  },
  {
   "cell_type": "code",
   "execution_count": 77,
   "id": "4f26eaf9-5d35-4209-a14f-75e9ac39f0ef",
   "metadata": {},
   "outputs": [],
   "source": [
    "# print( vars(tree_result) )"
   ]
  },
  {
   "cell_type": "code",
   "execution_count": 78,
   "id": "f4540471-cf6c-4a2b-a828-f7ebb2fc47b2",
   "metadata": {},
   "outputs": [],
   "source": [
    "# print( \"parent \", vars(tree_result) )\n",
    "# for value, child in tree_result.children.items():\n",
    "#     print( child )\n",
    "#     print( value )\n",
    "#     print( \"child \",vars(child) )\n",
    "#     for value, grandchild in child.children.items():\n",
    "#         print( grandchild )\n",
    "#         print( value )\n",
    "#         print( \"grandchild \",vars(grandchild) )"
   ]
  },
  {
   "cell_type": "code",
   "execution_count": 79,
   "id": "4a57b0ce-7e54-4f2a-93ae-7000bdf51f4c",
   "metadata": {},
   "outputs": [],
   "source": [
    "# accepts a node and a depth\n",
    "# returns nothing, prints tree recursively\n",
    "#   intended to be called by the user with only the root node of the tree\n",
    "def display_tree(node, depth=0):\n",
    "    indent_text = \"--|\"\n",
    "    # case: leaf node\n",
    "    if node.attribute == None:\n",
    "        print(indent_text * depth, \" Training Results: \", node.label)#.to_list())#, \" \", node.label.ndim)\n",
    "        print(indent_text * depth, \" Classified actual: \", node.actual)#.to_list())#, \" \", node.label.ndim)\n",
    "        print(indent_text * depth, \" Classified predicted: \", node.predicted)#.to_list())#, \" \", node.label.ndim)\n",
    "    # case: branch node\n",
    "    else:\n",
    "        #case: branch node is split on continuous attribute\n",
    "        if node.threshold != None:\n",
    "            print(indent_text * depth, \" Split on : \", node.attribute)\n",
    "            for value, child in node.children.items():\n",
    "                print(indent_text * (depth), \" Threshold: \", value)\n",
    "                display_tree(child, (depth+1))\n",
    "        #case: branch node is categorical\n",
    "        else: \n",
    "            print(indent_text * depth, \" Split on: \", node.attribute)\n",
    "            for value, child in node.children.items():\n",
    "                print(indent_text * (depth), \" Value: \", value)\n",
    "                display_tree(child, (depth+1))\n",
    "        "
   ]
  },
  {
   "cell_type": "code",
   "execution_count": 80,
   "id": "91e6cfde-6d9e-493e-9442-397917298fb0",
   "metadata": {},
   "outputs": [],
   "source": [
    "# display_tree(tree_result)"
   ]
  },
  {
   "cell_type": "code",
   "execution_count": 81,
   "id": "7321069b-16bc-40b4-a21b-c9d4b4b86c1f",
   "metadata": {},
   "outputs": [],
   "source": [
    "# accepts a single input and a finished decision tree\n",
    "# returns the leaf node 'bucket' in which the input would have fallen, or 'Unknown' otherwise\n",
    "#   this is intended to classify new inputs, but also returns whole leaf node 'bucket' for accuracy\n",
    "#   when run during testing phase, if case from testing was never ecountered during training, creates a new node and outputs error text\n",
    "def classify(novel_input, tree):\n",
    "\n",
    "    attribute = tree.attribute\n",
    "    # case: leaf node found\n",
    "    if attribute == None:  # Leaf node\n",
    "        return tree\n",
    "\n",
    "    # find attribute current node splits on\n",
    "    if attribute in novel_input:\n",
    "        value = novel_input[attribute]\n",
    "\n",
    "        # case: attribute is categorical\n",
    "        if tree.threshold == None:\n",
    "            # find value for attibute if possible\n",
    "            if value in tree.children:\n",
    "                #recurse down one level\n",
    "                return classify(novel_input, tree.children[value])\n",
    "            # somehow found example in test that did not exist in training\n",
    "            else:\n",
    "                print(\"value not found in \", tree.children)\n",
    "                print(\"novel_input is\")\n",
    "                print(novel_input)\n",
    "                # check if current node has leaf node children, if so how likely they are as 'answer'\n",
    "                likely_key = ''\n",
    "                most_training = 0\n",
    "                for key,val in tree.children.items():\n",
    "                    if val.trained_count >= most_training:\n",
    "                        most_training = val.trained_count\n",
    "                        likely_key = key\n",
    "                # if there were any cases during training, take the most populous node\n",
    "                if (likely_key != ''):\n",
    "                    print(\"sorted to other leaf\\n\")\n",
    "                    return classify(novel_input, tree.children[likely_key])\n",
    "                #otherwise create a new node for the new value\n",
    "                else:\n",
    "                    print(\"generated new leaf\\n\")\n",
    "                    tree.children[value] = TreeNode(label={\"\":1}, trained_count=0)\n",
    "                    #return TreeNode(label=current_label, trained_count=dataframe.shape[0])\n",
    "                    return tree.children[value]\n",
    "                \n",
    "        # case: attribute is continuous\n",
    "        else:\n",
    "            # novel value compared to existing threshold \n",
    "            if value <= tree.threshold:\n",
    "                below_threshold = '<= {}'.format(tree.threshold)\n",
    "                #recurse down one level\n",
    "                return classify(novel_input, tree.children[below_threshold])\n",
    "            else:\n",
    "                above_threshold = '> {}'.format(tree.threshold)\n",
    "                #recurse down one level\n",
    "                return classify(novel_input, tree.children[above_threshold])\n",
    "    # attribute tree starts on is not found in \n",
    "    else:\n",
    "        return \"attribute \", attribute,\" not in novel_input, failed at \", vars(tree)\n"
   ]
  },
  {
   "cell_type": "code",
   "execution_count": 82,
   "id": "64049aee-cfd6-42dc-bda0-ef55c49c38c5",
   "metadata": {},
   "outputs": [],
   "source": [
    "dataframe = from_csv\n",
    "# if 'Outcome' in dataframe.columns:\n",
    "#     novel_input = {'Pregnancies': [10],  'Glucose':[50], 'BloodPressure':[50], 'SkinThickness':[50], 'Insulin':[50], 'BMI':[50], 'DiabetesPedigreeFunction':[50], 'Age':[50]}\n",
    "# elif 'pep' in dataframe.columns:\n",
    "#     novel_input = dataframe.loc[50]\n",
    "# elif 'NObeyesdad' in dataframe.columns:\n",
    "#     novel_input = dataframe.loc[0]\n",
    "\n",
    "#sample_node = TreeNode(label=dataframe.value_counts())\n",
    "#print( vars(TreeNode(label=dataframe[result_attr])) )\n",
    "\n",
    "# classify_result = classify(novel_input, tree_result)"
   ]
  },
  {
   "cell_type": "code",
   "execution_count": 83,
   "id": "a6b159a5-0280-4ca5-841d-25c04a085f18",
   "metadata": {},
   "outputs": [],
   "source": [
    "# print(vars(classify_result))"
   ]
  },
  {
   "cell_type": "code",
   "execution_count": 84,
   "id": "0839ba3e-5862-45ed-a7b7-496dfda5c534",
   "metadata": {},
   "outputs": [],
   "source": [
    "from sklearn.model_selection import train_test_split"
   ]
  },
  {
   "cell_type": "code",
   "execution_count": 85,
   "id": "533e750b-a3b7-46be-ac9e-8adbb3a42a39",
   "metadata": {},
   "outputs": [],
   "source": [
    "train, test = train_test_split(dataframe, test_size=0.2)"
   ]
  },
  {
   "cell_type": "code",
   "execution_count": 86,
   "id": "cb17be53-6dfe-4acf-a48f-e15a6c402759",
   "metadata": {},
   "outputs": [
    {
     "name": "stdout",
     "output_type": "stream",
     "text": [
      "     day  month  year  Temperature   RH   Ws  Rain   FFMC   DMC     DC   ISI  \\\n",
      "218    6      9  2012           34   71   14    6.5  64.5   3.3    9.1   1.0   \n",
      "133   12      6  2012           27   58   17    0.0  88.9  21.3   37.8   8.7   \n",
      "188    7      8  2012           34   63   13    2.9  69.7   7.2    9.8   1.2   \n",
      "211   30      8  2012           34   49   15    0.0  89.2  24.8  159.1   8.1   \n",
      "131   10      6  2012           30   41   15    0.0  89.4  13.3   22.5   8.4   \n",
      "..   ...    ...   ...          ...  ...  ...    ...   ...   ...    ...   ...   \n",
      "205   24      8  2012           35   38   15    0.0  92.1  51.3  147.7  12.2   \n",
      "68     8      8  2012           32   60   18    0.3  77.1  11.3   47.0   2.2   \n",
      "216    4      9  2012           30   66   15    0.2  73.5   4.1   26.6   1.5   \n",
      "151   30      6  2012           34   42   15    1.7  79.7  12.0    8.5   2.2   \n",
      "94     3      9  2012           25   78   15    3.8  42.6   1.2    7.5   0.1   \n",
      "\n",
      "      BUI   FWI Classes    \n",
      "218   3.5   0.4  not fire  \n",
      "133  21.2  12.9      fire  \n",
      "188   6.9   0.6  not fire  \n",
      "211  35.7  16.0      fire  \n",
      "131  13.1  10.0      fire  \n",
      "..    ...   ...       ...  \n",
      "205  54.9  26.9      fire  \n",
      "68   14.1   2.6  not fire  \n",
      "216   6.0   0.7  not fire  \n",
      "151  11.5   2.2  not fire  \n",
      "94    1.7   0.0  not fire  \n",
      "\n",
      "[194 rows x 14 columns]\n",
      "     day  month  year  Temperature   RH   Ws  Rain   FFMC   DMC     DC   ISI  \\\n",
      "51    22      7  2012           28   79   18    0.1  73.4  16.4   79.9   1.8   \n",
      "28    29      6  2012           32   47   13    0.3  79.9  18.4   84.4   2.2   \n",
      "42    13      7  2012           34   81   15    0.0  81.8   9.7   37.2   3.0   \n",
      "4      5      6  2012           27   77   16    0.0  64.8   3.0   14.2   1.2   \n",
      "6      7      6  2012           33   54   13    0.0  88.2   9.9   30.5   6.4   \n",
      "193   12      8  2012           39   21   17    0.4  93.0  18.4   41.5  15.5   \n",
      "164   13      7  2012           39   45   13    0.6  85.2  11.3   10.4   4.2   \n",
      "235   23      9  2012           35   56   14    0.0  89.0  29.4  115.6   7.5   \n",
      "230   18      9  2012           36   33   13    0.1  90.6  25.8   77.8   9.0   \n",
      "74    14      8  2012           33   66   14    0.0  87.0  21.7   94.7   5.7   \n",
      "21    22      6  2012           31   67   17    0.1  79.1   7.0   39.5   2.4   \n",
      "80    20      8  2012           35   68   19    0.0  88.3  25.9  130.6   8.8   \n",
      "178   28      7  2012           33   57   16    0.0  87.5  15.7   37.6   6.7   \n",
      "142   21      6  2012           32   55   14    0.0  86.2   8.3   18.4   5.0   \n",
      "202   21      8  2012           36   71   15    0.0  86.0  36.9  117.1   5.1   \n",
      "219    7      9  2012           31   62   15    0.0  83.3   5.8   17.7   3.8   \n",
      "12    13      6  2012           27   84   21    1.2  50.0   6.7   17.0   0.5   \n",
      "147   26      6  2012           36   62   16    0.0  87.8  16.5   34.5   7.0   \n",
      "148   27      6  2012           36   55   15    0.0  89.1  20.9   43.3   8.0   \n",
      "192   11      8  2012           40   31   15    0.0  94.2  22.5   46.3  16.6   \n",
      "196   15      8  2012           35   46   13    0.3  83.9  16.9   54.2   3.5   \n",
      "18    19      6  2012           31   55   16    0.1  79.9   4.5   16.0   2.5   \n",
      "186    5      8  2012           34   42   17    0.1  88.3  23.6   52.5  19.0   \n",
      "96     5      9  2012           29   75   16    0.0  80.8   3.4   24.0   2.8   \n",
      "105   14      9  2012           22   76   26    8.3  47.4   1.1    7.0   0.4   \n",
      "135   14      6  2012           27   79   16    0.7  53.4   6.4    7.3   0.5   \n",
      "119   28      9  2012           32   47   14    0.7  77.5   7.1    8.8   1.8   \n",
      "117   26      9  2012           31   54   11    0.0  82.0   6.0   16.3   2.5   \n",
      "36     7      7  2012           35   64   18    0.2  80.0   9.7   40.4   2.8   \n",
      "17    18      6  2012           31   78   14    0.3  56.9   1.9    8.0   0.7   \n",
      "44    15      7  2012           30   80   19    0.4  60.7   5.2   17.0   1.1   \n",
      "87    27      8  2012           33   82   21    0.0  84.9  47.0  200.2   4.4   \n",
      "140   19      6  2012           32   67   14    4.5  64.6   4.4    8.2   1.0   \n",
      "126    5      6  2012           32   60   14    0.2  77.1   6.0   17.6   1.8   \n",
      "33     4      7  2012           33   78   17    0.0  80.1   4.6   18.5   2.7   \n",
      "35     6      7  2012           32   63   14    0.0  87.0  10.9   37.0   5.6   \n",
      "181   31      7  2012           37   55   15    0.0  89.3  28.3   67.2   8.3   \n",
      "41    12      7  2012           31   75   13    0.1  75.1   7.9   27.7   1.5   \n",
      "141   20      6  2012           31   72   14    0.2  60.2   3.8    8.0   0.8   \n",
      "88    28      8  2012           34   64   16    0.0  89.4  50.2  210.4   7.3   \n",
      "113   22      9  2012           31   50   19    0.6  77.8  10.6   41.4   2.4   \n",
      "54    25      7  2012           31   65   18    0.0  84.3  12.5   88.7   4.8   \n",
      "89    29      8  2012           35   48   18    0.0  90.1  54.2  220.4  12.5   \n",
      "143   22      6  2012           33   46   14    1.1  78.3   8.1    8.3   1.9   \n",
      "127    6      6  2012           35   54   11    0.1  83.7   8.4   26.3   3.1   \n",
      "13    14      6  2012           30   78   20    0.5  59.0   4.6    7.8   1.0   \n",
      "110   19      9  2012           29   57   14    0.0  89.3  12.5   41.3   7.8   \n",
      "108   17      9  2012           31   52   14    0.0  87.7   6.4   24.3   6.2   \n",
      "40    11      7  2012           33   76   14    0.0  81.1   8.1   18.7   2.6   \n",
      "\n",
      "      BUI   FWI Classes    \n",
      "51   21.7   2.8  not fire  \n",
      "28   23.8   3.9  not fire  \n",
      "42   11.7   3.4  not fire  \n",
      "4     3.9   0.5  not fire  \n",
      "6    10.9   7.2      fire  \n",
      "193  18.4  18.8      fire  \n",
      "164  10.9   4.7      fire  \n",
      "235  36.0  15.2      fire  \n",
      "230  28.2  15.4      fire  \n",
      "74   27.2  10.6      fire  \n",
      "21    9.7   2.3  not fire  \n",
      "80   34.7  16.8      fire  \n",
      "178  15.7   9.0      fire  \n",
      "142   8.2   4.9      fire  \n",
      "202  41.3  12.2      fire  \n",
      "219   6.4   3.2      fire  \n",
      "12    6.7   0.2  not fire  \n",
      "147  16.4   9.5      fire  \n",
      "148  20.8  12.0      fire  \n",
      "192  22.4  21.6      fire  \n",
      "196  19.0   5.5      fire  \n",
      "18    5.3   1.4  not fire  \n",
      "186  23.5  12.6      fire  \n",
      "96    5.1   1.7      fire  \n",
      "105   1.6   0.1  not fire  \n",
      "135   6.1   0.3  not fire  \n",
      "119   6.8   0.9  not fire  \n",
      "117   6.2   1.7  not fire  \n",
      "36   12.1   3.2  not fire  \n",
      "17    2.4   0.2  not fire  \n",
      "44    5.9   0.5  not fire  \n",
      "87   59.3  13.2      fire  \n",
      "140   4.2   0.4  not fire  \n",
      "126   6.5   0.9  not fire  \n",
      "33    5.7   1.7  not fire  \n",
      "35   12.5   6.8      fire  \n",
      "181  28.3  14.5      fire  \n",
      "41    9.2   0.9  not fire  \n",
      "141   3.7   0.3  not fire  \n",
      "88   62.9  19.9      fire  \n",
      "113  12.9   2.8  not fire  \n",
      "54   18.5   7.3      fire  \n",
      "89   67.4  30.2      fire  \n",
      "143   7.7   1.2  not fire  \n",
      "127   9.3   3.1      fire  \n",
      "13    4.4   0.4  not fire  \n",
      "110  14.2   9.7      fire  \n",
      "108   7.7   5.9      fire  \n",
      "40    8.1   2.2  not fire  \n"
     ]
    }
   ],
   "source": [
    "print(train)\n",
    "print(test)"
   ]
  },
  {
   "cell_type": "code",
   "execution_count": 87,
   "id": "c9d7200e-b7e4-4b1d-be00-0248b650fd8f",
   "metadata": {},
   "outputs": [],
   "source": [
    "dataframe = from_csv\n",
    "if 'Outcome' in dataframe.columns:\n",
    "    result_attr = 'Outcome'\n",
    "elif 'pep' in dataframe.columns:\n",
    "    result_attr = 'pep'\n",
    "elif 'whether he/she donated blood in March 2007' in dataframe.columns:\n",
    "    result_attr = 'whether he/she donated blood in March 2007'\n",
    "elif filepath == \"../c45-datasets/breast+cancer+wisconsin+prognostic/wpbc_data.csv\":\n",
    "    result_attr = 'Outcome'\n",
    "else:\n",
    "    result_attr = dataframe.columns[-1]\n",
    "#sample_node = TreeNode(label=dataframe.value_counts())\n",
    "#print( vars(TreeNode(label=dataframe[result_attr])) )\n",
    "\n",
    "trained_tree_result = decision_tree_create(train, result_attr)"
   ]
  },
  {
   "cell_type": "code",
   "execution_count": 88,
   "id": "12dd6795-489b-47ae-886f-3c9a9f613b23",
   "metadata": {},
   "outputs": [],
   "source": [
    "# display_tree(trained_tree_result)"
   ]
  },
  {
   "cell_type": "code",
   "execution_count": 89,
   "id": "bbbcd72b-939c-4fbc-affa-c9281f23bab5",
   "metadata": {},
   "outputs": [],
   "source": [
    "# assumes that a dataset has been split into \"train\" and \"test\" sets\n",
    "# accepts a test set dataframe, a result attribute name, and the root node of a decision tree created from the \"training\" set \n",
    "# returns nothing, alters the tree in-place and stores the tree-predicted and actual results in the leaf nodes\n",
    "def tree_evaluate(test_set, result_attr, trained_tree):\n",
    "    # drop result column from test_set\n",
    "    test_x = test_set.drop(result_attr, axis=1)\n",
    "    test_y = test_set[result_attr]\n",
    "    test_y.name = result_attr\n",
    "\n",
    "    # go line-by-line through test_set minus result\n",
    "    for row_index, row_data in test_x.iterrows():\n",
    "        entry = test_x.loc[row_index].to_dict()\n",
    "        \n",
    "        # clear class_result, then feed row of test_set into classify(novel_input, tree_result)\n",
    "        class_result = TreeNode()\n",
    "        class_result = classify(entry, trained_tree)\n",
    "        \n",
    "        # when you get back the leaf node it was sorted into,\n",
    "        #   feed actual into TreeNode.actual and prediction into TreeNode.predicted\n",
    "        #   such that it has the same format as .label, i.e. [result_value, result_count] for as many outcomes exist\n",
    "        class_result.actual.append( test_y[row_index] )\n",
    "        if len(class_result.label) > 1:\n",
    "            finding_common = Counter(class_result.label).most_common(1)\n",
    "            class_result.predicted.append( finding_common[0][0] )\n",
    "        elif len(class_result.label) == 1:\n",
    "            class_result.predicted.append( next(iter(class_result.label.keys()) ) )\n",
    "        # this node had zero entries when the tree was constructed\n",
    "        else:\n",
    "            print(\" len(class_result.label) < 1 \")\n",
    "            print(class_result.label)\n",
    "            class_result.predicted.append( '' )"
   ]
  },
  {
   "cell_type": "code",
   "execution_count": 90,
   "id": "591498c8-2033-428a-becf-345b444a90d3",
   "metadata": {},
   "outputs": [],
   "source": [
    "dataframe = from_csv\n",
    "if 'Outcome' in dataframe.columns:\n",
    "    result_attr = 'Outcome'\n",
    "elif 'pep' in dataframe.columns:\n",
    "    result_attr = 'pep'\n",
    "elif 'NObeyesdad' in dataframe.columns:\n",
    "    result_attr = 'NObeyesdad'\n",
    "    \n",
    "tested_tree_eval = tree_evaluate(test, result_attr, trained_tree_result)"
   ]
  },
  {
   "cell_type": "code",
   "execution_count": 91,
   "id": "5a9d36eb-72d6-4d79-8605-e8f7e62cd73e",
   "metadata": {},
   "outputs": [
    {
     "name": "stdout",
     "output_type": "stream",
     "text": [
      "  Split on :  FFMC\n",
      "  Threshold:  <= 80.1\n",
      "--|  Training Results:  {'not fire': 82}\n",
      "--|  Classified actual:  ['not fire', 'not fire', 'not fire', 'not fire', 'not fire', 'not fire', 'not fire', 'not fire', 'not fire', 'not fire', 'not fire', 'not fire', 'not fire', 'not fire', 'not fire', 'not fire', 'not fire', 'not fire', 'not fire', 'not fire']\n",
      "--|  Classified predicted:  ['not fire', 'not fire', 'not fire', 'not fire', 'not fire', 'not fire', 'not fire', 'not fire', 'not fire', 'not fire', 'not fire', 'not fire', 'not fire', 'not fire', 'not fire', 'not fire', 'not fire', 'not fire', 'not fire', 'not fire']\n",
      "  Threshold:  > 80.1\n",
      "--|  Split on :  ISI\n",
      "--|  Threshold:  <= 2.55\n",
      "--|--|  Training Results:  {'not fire': 1}\n",
      "--|--|  Classified actual:  ['not fire']\n",
      "--|--|  Classified predicted:  ['not fire']\n",
      "--|  Threshold:  > 2.55\n",
      "--|--|  Training Results:  {'fire': 111}\n",
      "--|--|  Classified actual:  ['not fire', 'fire', 'fire', 'fire', 'fire', 'fire', 'fire', 'fire', 'fire', 'fire', 'fire', 'fire', 'fire', 'fire', 'fire', 'fire', 'fire', 'fire', 'fire', 'fire', 'fire', 'fire', 'fire', 'fire', 'fire', 'fire', 'fire', 'not fire']\n",
      "--|--|  Classified predicted:  ['fire', 'fire', 'fire', 'fire', 'fire', 'fire', 'fire', 'fire', 'fire', 'fire', 'fire', 'fire', 'fire', 'fire', 'fire', 'fire', 'fire', 'fire', 'fire', 'fire', 'fire', 'fire', 'fire', 'fire', 'fire', 'fire', 'fire', 'fire']\n"
     ]
    }
   ],
   "source": [
    "display_tree(trained_tree_result)"
   ]
  },
  {
   "cell_type": "code",
   "execution_count": 92,
   "id": "070591aa-1181-4bb5-8252-0972d7f4838e",
   "metadata": {},
   "outputs": [],
   "source": [
    "# accepts node and a boolean\n",
    "# returns integer\n",
    "#   intended to be given the root node of tree, recursively find all leaf nodes\n",
    "#   if count_empty is True, count all leaves, if False, only count them if they have any test entries\n",
    "\n",
    "def leaf_counter(node, count_empty):\n",
    "    counter = 0\n",
    "    if node.attribute == None:\n",
    "        if count_empty:\n",
    "            return 1\n",
    "        else:\n",
    "            if (len(node.actual) < 1):\n",
    "                # print(\"zero \",end='')\n",
    "                return 0\n",
    "            else:\n",
    "                # print(\"leaf \",end='')\n",
    "                return 1\n",
    "    # case: branch node\n",
    "    else:\n",
    "        for value, child in node.children.items():\n",
    "            counter += leaf_counter(child, count_empty)\n",
    "    return counter"
   ]
  },
  {
   "cell_type": "code",
   "execution_count": 93,
   "id": "7f673364-e96a-486b-8191-0b690112eda4",
   "metadata": {},
   "outputs": [
    {
     "name": "stdout",
     "output_type": "stream",
     "text": [
      "3\n",
      "3\n"
     ]
    }
   ],
   "source": [
    "print( leaf_counter(trained_tree_result, True) )\n",
    "\n",
    "print( leaf_counter(trained_tree_result, False) )"
   ]
  },
  {
   "cell_type": "code",
   "execution_count": 94,
   "id": "710dd82e-9ee2-4b3b-95f4-87f268aec9d2",
   "metadata": {},
   "outputs": [],
   "source": [
    "# accepts the root of a tree\n",
    "# returns list of [leaf node, correct prediction] tuples\n",
    "#   intended to find total numbers of actual vs predicted, for the caller to use to calculate accuracy of whole tree\n",
    "\n",
    "def leaf_accuracies(tree_to_grade):\n",
    "    # enter top of tree\n",
    "    todo_list = list()\n",
    "    todo_list.append(tree_to_grade)\n",
    "\n",
    "    # create tally list to keep track of all \n",
    "    acc_list = list()\n",
    "\n",
    "    current_acc = 0 # create variable once \n",
    "    \n",
    "    while len(todo_list) > 0:\n",
    "        # pop node off front of to-do and check that it has children\n",
    "        current_node = todo_list.pop(0)\n",
    "        # print(\"current_node \", vars(current_node) )\n",
    "\n",
    "        for key in current_node.children.keys():\n",
    "            todo_list.append( current_node.children[key] )\n",
    "\n",
    "        # current node is not a leaf, skip it\n",
    "        if (current_node.label == None):\n",
    "            continue\n",
    "\n",
    "        cur_true = current_node.actual\n",
    "        cur_pred = current_node.predicted\n",
    "        \n",
    "        if (len(cur_true) > 0) and (len(cur_pred) > 0):\n",
    "            current_acc = sklearn.metrics.accuracy_score(y_pred = cur_pred, y_true = cur_true, normalize=False)\n",
    "            acc_list.append([current_node, current_acc])\n",
    "        # if either the actual or predicted length is 0, then no samples existed, so the accuracy is counted as 'zero'\n",
    "        else:\n",
    "            acc_list.append([current_node, 0])\n",
    "        \n",
    "    return acc_list"
   ]
  },
  {
   "cell_type": "code",
   "execution_count": 95,
   "id": "4411352f-00f3-4fff-9f4c-18ad25a62a7f",
   "metadata": {},
   "outputs": [],
   "source": [
    "pretrim_acc = leaf_accuracies(trained_tree_result)"
   ]
  },
  {
   "cell_type": "code",
   "execution_count": 96,
   "id": "33cde4ad-d07e-4900-90d1-2f40c06996b5",
   "metadata": {},
   "outputs": [],
   "source": [
    "# for entry in pretrim_acc:\n",
    "#     print(entry)"
   ]
  },
  {
   "cell_type": "code",
   "execution_count": 97,
   "id": "42eabd47-0f3f-44fe-89f3-f176f28c76ba",
   "metadata": {},
   "outputs": [],
   "source": [
    "# accepts an accuracy list of [node, num correct answers]\n",
    "# returns a sum of accuracies of each node\n",
    "#    intended to give an accuracy score system for the whole tree before/after merging\n",
    "def sum_acc(acc_list):\n",
    "    sum_weighted_acc = 0\n",
    "    for acc in acc_list:\n",
    "        num_answers = len(acc[0].actual)\n",
    "        # print(\"leaf\",acc[1], \"\\t/\", num_answers, \"\\t\", end='')\n",
    "        # if leaf node had answers\n",
    "        if num_answers > 0:\n",
    "            sum_weighted_acc += acc[1] / num_answers\n",
    "    # print('\\n')\n",
    "    return sum_weighted_acc"
   ]
  },
  {
   "cell_type": "code",
   "execution_count": 98,
   "id": "786731ea-49ec-447b-8f24-7e43f9b68831",
   "metadata": {},
   "outputs": [
    {
     "name": "stdout",
     "output_type": "stream",
     "text": [
      "2.928571428571429 / 3 = 0.9761904761904763\n",
      "2.928571428571429 / 3 = 0.9761904761904763\n"
     ]
    }
   ],
   "source": [
    "# COMPARE SUM OF ACCURACIES AGAINST NUMBER OF NODES, 'REAL' AND 'EMPTY'\n",
    "\n",
    "pre_acc = sum_acc(pretrim_acc)\n",
    "pre_leaf_num = leaf_counter(trained_tree_result, True)\n",
    "pre_nonzero_leaf_num = leaf_counter(trained_tree_result, False)\n",
    "\n",
    "print(pre_acc, \"/\", pre_leaf_num, \"=\", pre_acc/pre_leaf_num )\n",
    "print(pre_acc, \"/\", pre_nonzero_leaf_num, \"=\", pre_acc/pre_nonzero_leaf_num )"
   ]
  },
  {
   "cell_type": "code",
   "execution_count": 99,
   "id": "4d867871-d903-4657-8d76-998c56dae819",
   "metadata": {},
   "outputs": [],
   "source": [
    "# accepts one node\n",
    "# returns weighted accuracy score\n",
    "#    intended to give an accuracy score for individual nodes\n",
    "def weighted_score(node):\n",
    "    predict_count = len(node.actual)\n",
    "\n",
    "    if predict_count > 0:\n",
    "        correct = sklearn.metrics.accuracy_score(y_pred = node.predicted, y_true = node.actual, normalize=False)\n",
    "        acc = correct / predict_count\n",
    "    else:\n",
    "        return 0\n",
    "\n",
    "    return (acc * correct)"
   ]
  },
  {
   "cell_type": "code",
   "execution_count": 100,
   "id": "e261f8cd-d4bc-43de-889b-c4ed00222870",
   "metadata": {},
   "outputs": [],
   "source": [
    "# pretrim_scores = 0\n",
    "# for entry in pretrim_acc:\n",
    "#     cur_score = weighted_score(entry[0])\n",
    "#     print(len(entry[0].actual),\"\\t\", cur_score)\n",
    "#     pretrim_scores += cur_score\n",
    "# print(pretrim_scores)"
   ]
  },
  {
   "cell_type": "code",
   "execution_count": 101,
   "id": "3885cacb-e1bb-4bac-b93e-8c53af55efe0",
   "metadata": {},
   "outputs": [],
   "source": [
    "# accepts the root of a tree\n",
    "# returns a list of tuples where each tuple is \"orphaned\" child nodes + \"merged\" parent node\n",
    "#   intended to find nodes of the tree with zero grandchildren, and merge those nodes with their children, \"bringing up\" the bottom-most leaf nodes\n",
    "\n",
    "def trim_leaves(tree_to_trim):\n",
    "    # enter top of tree\n",
    "    todo_list = list()\n",
    "    todo_list.append(tree_to_trim)\n",
    "    number_merged = 0\n",
    "    nodes_to_merge = list()\n",
    "\n",
    "    # list [0:-1] are child, list [-1:] is merged parent\n",
    "    child_merged_list = list()\n",
    "\n",
    "    while len(todo_list) > 0:\n",
    "        # pop node off front of to-do and check that it has children\n",
    "        current_node = todo_list.pop(0)\n",
    "\n",
    "        if len(current_node.children) > 0:\n",
    "            # check that those children \"say\" there are grand-chidlren\n",
    "            has_grandchildren = False\n",
    "            for key, value in current_node.children.items():\n",
    "                if len(value.children) > 0:\n",
    "                    has_grandchildren = True\n",
    "            # case: internal node, keep searching, add current_node.children to todo_list\n",
    "            if has_grandchildren == True:\n",
    "                # go through children of current node individually\n",
    "                for key in current_node.children.keys():\n",
    "                    # add current child to todo_list IFF it has children of its own, otherwise ignore it\n",
    "                    if len(current_node.children[key].children) > 0:\n",
    "                        todo_list.append( current_node.children[key] )\n",
    "            # case: internal node BUT no grandchildren\n",
    "            # if no grandchildren present, merge children into current \"parent\" node\n",
    "            else:\n",
    "                nodes_to_merge.append(current_node)\n",
    "\n",
    "    # print(\"num parents to merge\", len(nodes_to_merge) )\n",
    "    index = 0\n",
    "    number_merged = 0\n",
    "\n",
    "    for parent in nodes_to_merge:\n",
    "        # create new objects to hold the sum of children's Counter objects\n",
    "        test_label = Counter()\n",
    "        test_predicted = list()\n",
    "        test_actual = list()\n",
    "        child_parent_list = []\n",
    "\n",
    "        # iterate through all children\n",
    "        for key,val in parent.children.items():\n",
    "            child_parent_list.append( val )\n",
    "            test_label.update(val.label)\n",
    "            test_predicted += val.predicted\n",
    "            test_actual += val.actual\n",
    "            #number of nodes merged\n",
    "            number_merged += 1\n",
    "\n",
    "        # alter the parent to \"merge\" and remove children\n",
    "        parent.attribute = None\n",
    "        parent.label = test_label\n",
    "        parent.predicted = test_predicted \n",
    "        parent.actual = test_actual\n",
    "        parent.children = {}\n",
    "\n",
    "        \n",
    "        child_parent_list.append( parent )\n",
    "        child_merged_list.append(child_parent_list)\n",
    "        child_parent_list = []\n",
    "        #number of resulting nodes\n",
    "        index += 1\n",
    "\n",
    "    return child_merged_list"
   ]
  },
  {
   "cell_type": "code",
   "execution_count": 102,
   "id": "728937ee-1f2b-4515-8214-3792e27edb26",
   "metadata": {},
   "outputs": [],
   "source": [
    "tree_to_trim = trained_tree_result\n",
    "\n",
    "children_merged_list = trim_leaves(tree_to_trim)"
   ]
  },
  {
   "cell_type": "code",
   "execution_count": 103,
   "id": "799b53dd-00c0-48fd-bf99-a7209de592b8",
   "metadata": {},
   "outputs": [
    {
     "name": "stdout",
     "output_type": "stream",
     "text": [
      "[[<__main__.TreeNode object at 0x000001DBDD006340>, <__main__.TreeNode object at 0x000001DBDD0060A0>, <__main__.TreeNode object at 0x000001DBDD43EEE0>]]\n"
     ]
    }
   ],
   "source": [
    "print(children_merged_list)"
   ]
  },
  {
   "cell_type": "code",
   "execution_count": 104,
   "id": "4cfbf742-6211-44a2-9b45-674cb8609752",
   "metadata": {},
   "outputs": [
    {
     "name": "stdout",
     "output_type": "stream",
     "text": [
      "  Split on :  FFMC\n",
      "  Threshold:  <= 80.1\n",
      "--|  Training Results:  {'not fire': 82}\n",
      "--|  Classified actual:  ['not fire', 'not fire', 'not fire', 'not fire', 'not fire', 'not fire', 'not fire', 'not fire', 'not fire', 'not fire', 'not fire', 'not fire', 'not fire', 'not fire', 'not fire', 'not fire', 'not fire', 'not fire', 'not fire', 'not fire']\n",
      "--|  Classified predicted:  ['not fire', 'not fire', 'not fire', 'not fire', 'not fire', 'not fire', 'not fire', 'not fire', 'not fire', 'not fire', 'not fire', 'not fire', 'not fire', 'not fire', 'not fire', 'not fire', 'not fire', 'not fire', 'not fire', 'not fire']\n",
      "  Threshold:  > 80.1\n",
      "--|  Training Results:  Counter({'fire': 111, 'not fire': 1})\n",
      "--|  Classified actual:  ['not fire', 'not fire', 'fire', 'fire', 'fire', 'fire', 'fire', 'fire', 'fire', 'fire', 'fire', 'fire', 'fire', 'fire', 'fire', 'fire', 'fire', 'fire', 'fire', 'fire', 'fire', 'fire', 'fire', 'fire', 'fire', 'fire', 'fire', 'fire', 'not fire']\n",
      "--|  Classified predicted:  ['not fire', 'fire', 'fire', 'fire', 'fire', 'fire', 'fire', 'fire', 'fire', 'fire', 'fire', 'fire', 'fire', 'fire', 'fire', 'fire', 'fire', 'fire', 'fire', 'fire', 'fire', 'fire', 'fire', 'fire', 'fire', 'fire', 'fire', 'fire', 'fire']\n"
     ]
    }
   ],
   "source": [
    "display_tree(trained_tree_result)"
   ]
  },
  {
   "cell_type": "code",
   "execution_count": 105,
   "id": "0c061b0f-7c19-40bf-865b-a673111222ce",
   "metadata": {},
   "outputs": [
    {
     "name": "stdout",
     "output_type": "stream",
     "text": [
      "ISI\n"
     ]
    }
   ],
   "source": [
    "for item in children_merged_list:\n",
    "    print(item[-1].prev_attr)"
   ]
  },
  {
   "cell_type": "code",
   "execution_count": 106,
   "id": "496f0362-fdd2-43b1-a4ac-c79cf7cffd6e",
   "metadata": {},
   "outputs": [],
   "source": [
    "# accepts 2-D array/list of lists\n",
    "# returns a 2-D array/list of lists of accuracy of each node in the exact same configuration as it was recieved in\n",
    "#   isolates the \"accuracy finding\" behavior from the \"trimming\" behavior (prev same function)\n",
    "\n",
    "def family_accuracies(list_of_families):\n",
    "    family_acc = []\n",
    "    prev_split = []\n",
    "    for family in list_of_families:\n",
    "        current_family = []\n",
    "        for individual in family:\n",
    "            current_family.append( weighted_score(individual) )\n",
    "        family_acc.append(current_family)\n",
    "        prev_split.append(family[-1].prev_attr)\n",
    "\n",
    "    return family_acc, prev_split"
   ]
  },
  {
   "cell_type": "code",
   "execution_count": 107,
   "id": "4b339a77-b13b-4649-be4c-ae0a7551b0c5",
   "metadata": {},
   "outputs": [
    {
     "name": "stdout",
     "output_type": "stream",
     "text": [
      "[1.0, 24.142857142857142, 25.137931034482758] ISI\n"
     ]
    }
   ],
   "source": [
    "# testing that the family accuracies match the correct families\n",
    "children_merged_acc, split_on_list = family_accuracies( children_merged_list )\n",
    "\n",
    "for child, prev_attr in zip(children_merged_acc, split_on_list):\n",
    "    print(child, prev_attr)"
   ]
  },
  {
   "cell_type": "code",
   "execution_count": 108,
   "id": "2084633c-e878-49f2-b74c-f51b694bd1b6",
   "metadata": {},
   "outputs": [
    {
     "name": "stdout",
     "output_type": "stream",
     "text": [
      "2\n",
      "2\n"
     ]
    }
   ],
   "source": [
    "#check for number of 'empty' leaves after merging\n",
    "print( leaf_counter(trained_tree_result, True) )\n",
    "print( leaf_counter(trained_tree_result, False) )"
   ]
  },
  {
   "cell_type": "code",
   "execution_count": 109,
   "id": "a1aa426d-aeb2-4c7f-893a-c6c468795c72",
   "metadata": {},
   "outputs": [],
   "source": [
    "posttrim_acc = leaf_accuracies(trained_tree_result)"
   ]
  },
  {
   "cell_type": "code",
   "execution_count": 110,
   "id": "d7dc4493-a081-464b-9419-4f402d9f0245",
   "metadata": {},
   "outputs": [],
   "source": [
    "pre_weighted_acc =0\n",
    "post_weighted_acc =0\n",
    "\n",
    "for acc in pretrim_acc:\n",
    "    pre_weighted_acc += weighted_score(acc[0])\n",
    "\n",
    "for acc in posttrim_acc:\n",
    "    post_weighted_acc += weighted_score(acc[0])"
   ]
  },
  {
   "cell_type": "code",
   "execution_count": 111,
   "id": "f559bb33-b2af-4376-b9f5-7ac8484900dc",
   "metadata": {},
   "outputs": [],
   "source": [
    "post_acc = sum_acc(posttrim_acc)\n",
    "post_leaf_num = leaf_counter(trained_tree_result, True)\n",
    "post_nonzero_leaf_num = leaf_counter(trained_tree_result, False)\n"
   ]
  },
  {
   "cell_type": "code",
   "execution_count": 112,
   "id": "97820ebd-bcfe-444e-8241-44c382b7791d",
   "metadata": {},
   "outputs": [
    {
     "name": "stdout",
     "output_type": "stream",
     "text": [
      "45.14285714285714 / 3 = 15.047619047619046\n",
      "45.13793103448276 / 2 = 22.56896551724138\n"
     ]
    }
   ],
   "source": [
    "print(pre_weighted_acc,\"/\",pre_nonzero_leaf_num, \"=\", pre_weighted_acc/pre_nonzero_leaf_num)\n",
    "print(post_weighted_acc,\"/\",post_nonzero_leaf_num, \"=\", post_weighted_acc/post_nonzero_leaf_num)"
   ]
  },
  {
   "cell_type": "code",
   "execution_count": 113,
   "id": "d1a433b3-d699-47dc-b803-6d486d67b96b",
   "metadata": {},
   "outputs": [
    {
     "name": "stdout",
     "output_type": "stream",
     "text": [
      "2.928571428571429 / 3 = 0.9761904761904763\n",
      "2.928571428571429 / 3 = 0.9761904761904763\n",
      "1.9310344827586206 / 2 = 0.9655172413793103\n",
      "1.9310344827586206 / 2 = 0.9655172413793103\n"
     ]
    }
   ],
   "source": [
    "print(pre_acc, \"/\", pre_leaf_num, \"=\", pre_acc/pre_leaf_num )\n",
    "print(pre_acc, \"/\", pre_nonzero_leaf_num, \"=\", pre_acc/pre_nonzero_leaf_num )\n",
    "\n",
    "print(post_acc, \"/\", post_leaf_num, \"=\", post_acc/post_leaf_num )\n",
    "print(post_acc, \"/\", post_nonzero_leaf_num, \"=\", post_acc/post_nonzero_leaf_num )"
   ]
  },
  {
   "cell_type": "code",
   "execution_count": 114,
   "id": "b2707683-8745-44de-b370-28904d6e7627",
   "metadata": {},
   "outputs": [
    {
     "data": {
      "image/png": "[encoded data removed]",
      "text/plain": [
       "<Figure size 640x480 with 1 Axes>"
      ]
     },
     "metadata": {},
     "output_type": "display_data"
    }
   ],
   "source": [
    "result = filepath.rfind('/')\n",
    "graph_filepath = filepath[result+1:-4]\n",
    "\n",
    "family_group = 0\n",
    "score_list = []\n",
    "x_labels = []\n",
    "for family, split_on_attr in zip(children_merged_acc, split_on_list):\n",
    "    # print(family)\n",
    "    if max(family) <= 0:\n",
    "        continue\n",
    "\n",
    "    family_group +=1\n",
    "    score_difference = 0\n",
    "    for individual in family[:-1]:\n",
    "        score_difference += individual\n",
    "    score_difference -= family[-1]\n",
    "    # print(score_difference, split_on_attr)\n",
    "    score_list.append(score_difference)\n",
    "    x_labels.append(split_on_attr + str(family_group))\n",
    "\n",
    "# print(\"\\n\",family_group)\n",
    "# print(score_list)\n",
    "plt.bar(x=range(family_group), height=score_list, color=mcolors.TABLEAU_COLORS)\n",
    "plt.xticks(ticks=range(family_group), labels=x_labels)\n",
    "plt.tick_params(axis='x', rotation=90)\n",
    "plt.title(\"data filename: \" + graph_filepath)\n",
    "plt.suptitle(\"Count of Nodes created from Merging: \" + str( len(children_merged_list) ))\n",
    "plt.xlabel('Split Attribute/Family Group')\n",
    "plt.ylabel('Score Difference')\n",
    "str_now = str(dt.datetime.now().strftime(\"%Y-%m-%d_%H-%M-%S\"))\n",
    "plt.savefig(\"./images/acc_vs_magnitude_\"+graph_filepath +\"_\"+ str_now+ \".png\", bbox_inches=\"tight\")\n",
    "plt.show()"
   ]
  },
  {
   "cell_type": "code",
   "execution_count": null,
   "id": "aad6a850-e1a3-4fd6-b114-be1d8b5838a7",
   "metadata": {},
   "outputs": [],
   "source": []
  }
 ],
 "metadata": {
  "kernelspec": {
   "display_name": "Python 3 (ipykernel)",
   "language": "python",
   "name": "python3"
  },
  "language_info": {
   "codemirror_mode": {
    "name": "ipython",
    "version": 3
   },
   "file_extension": ".py",
   "mimetype": "text/x-python",
   "name": "python",
   "nbconvert_exporter": "python",
   "pygments_lexer": "ipython3",
   "version": "3.9.18"
  }
 },
 "nbformat": 4,
 "nbformat_minor": 5
}
